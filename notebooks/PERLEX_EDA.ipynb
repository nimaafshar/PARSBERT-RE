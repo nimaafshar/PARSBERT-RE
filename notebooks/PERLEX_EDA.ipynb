{
 "nbformat": 4,
 "nbformat_minor": 0,
 "metadata": {
  "colab": {
   "name": "PERLEX_EDA.ipynb",
   "provenance": [],
   "collapsed_sections": []
  },
  "kernelspec": {
   "name": "python3",
   "display_name": "Python 3"
  },
  "language_info": {
   "name": "python"
  }
 },
 "cells": [
  {
   "cell_type": "markdown",
   "source": [
    "for running in google colab"
   ],
   "metadata": {
    "collapsed": false
   }
  },
  {
   "cell_type": "code",
   "execution_count": 1,
   "metadata": {
    "colab": {
     "base_uri": "https://localhost:8080/"
    },
    "id": "KhyhVE7x4rm8",
    "outputId": "920d3355-8276-40e7-edc8-1fb498c00725"
   },
   "outputs": [
    {
     "name": "stdout",
     "output_type": "stream",
     "text": [
      "Requirement already satisfied: transformers==4.17.0 in d:\\persian_relation_extraction\\venv\\lib\\site-packages (from -r ../requirements.txt (line 1)) (4.17.0)\n",
      "Requirement already satisfied: hazm==0.7.0 in d:\\persian_relation_extraction\\venv\\lib\\site-packages (from -r ../requirements.txt (line 2)) (0.7.0)\n",
      "Requirement already satisfied: pyyaml==5.4.1 in d:\\persian_relation_extraction\\venv\\lib\\site-packages (from -r ../requirements.txt (line 3)) (5.4.1)\n",
      "Requirement already satisfied: clean-text[gpl] in d:\\persian_relation_extraction\\venv\\lib\\site-packages (from -r ../requirements.txt (line 4)) (0.6.0)\n",
      "Requirement already satisfied: python-dotenv==0.19.2 in d:\\persian_relation_extraction\\venv\\lib\\site-packages (from -r ../requirements.txt (line 5)) (0.19.2)\n",
      "Requirement already satisfied: pandas==1.4.1 in d:\\persian_relation_extraction\\venv\\lib\\site-packages (from -r ../requirements.txt (line 6)) (1.4.1)\n",
      "Requirement already satisfied: jupyter==1.0.0 in d:\\persian_relation_extraction\\venv\\lib\\site-packages (from -r ../requirements.txt (line 7)) (1.0.0)\n",
      "Requirement already satisfied: plotly==5.6.0 in d:\\persian_relation_extraction\\venv\\lib\\site-packages (from -r ../requirements.txt (line 8)) (5.6.0)\n",
      "Requirement already satisfied: sacremoses in d:\\persian_relation_extraction\\venv\\lib\\site-packages (from transformers==4.17.0->-r ../requirements.txt (line 1)) (0.0.49)\n",
      "Requirement already satisfied: huggingface-hub<1.0,>=0.1.0 in d:\\persian_relation_extraction\\venv\\lib\\site-packages (from transformers==4.17.0->-r ../requirements.txt (line 1)) (0.4.0)\n",
      "Requirement already satisfied: requests in d:\\persian_relation_extraction\\venv\\lib\\site-packages (from transformers==4.17.0->-r ../requirements.txt (line 1)) (2.27.1)\n",
      "Requirement already satisfied: numpy>=1.17 in d:\\persian_relation_extraction\\venv\\lib\\site-packages (from transformers==4.17.0->-r ../requirements.txt (line 1)) (1.22.3)\n",
      "Requirement already satisfied: packaging>=20.0 in d:\\persian_relation_extraction\\venv\\lib\\site-packages (from transformers==4.17.0->-r ../requirements.txt (line 1)) (21.3)\n",
      "Requirement already satisfied: tqdm>=4.27 in d:\\persian_relation_extraction\\venv\\lib\\site-packages (from transformers==4.17.0->-r ../requirements.txt (line 1)) (4.63.0)\n",
      "Requirement already satisfied: filelock in d:\\persian_relation_extraction\\venv\\lib\\site-packages (from transformers==4.17.0->-r ../requirements.txt (line 1)) (3.6.0)\n",
      "Requirement already satisfied: regex!=2019.12.17 in d:\\persian_relation_extraction\\venv\\lib\\site-packages (from transformers==4.17.0->-r ../requirements.txt (line 1)) (2022.3.15)\n",
      "Requirement already satisfied: tokenizers!=0.11.3,>=0.11.1 in d:\\persian_relation_extraction\\venv\\lib\\site-packages (from transformers==4.17.0->-r ../requirements.txt (line 1)) (0.11.6)\n",
      "Requirement already satisfied: nltk==3.3 in d:\\persian_relation_extraction\\venv\\lib\\site-packages (from hazm==0.7.0->-r ../requirements.txt (line 2)) (3.3)\n",
      "Requirement already satisfied: python-dateutil>=2.8.1 in d:\\persian_relation_extraction\\venv\\lib\\site-packages (from pandas==1.4.1->-r ../requirements.txt (line 6)) (2.8.2)\n",
      "Requirement already satisfied: pytz>=2020.1 in d:\\persian_relation_extraction\\venv\\lib\\site-packages (from pandas==1.4.1->-r ../requirements.txt (line 6)) (2021.3)\n",
      "Requirement already satisfied: ipywidgets in d:\\persian_relation_extraction\\venv\\lib\\site-packages (from jupyter==1.0.0->-r ../requirements.txt (line 7)) (7.7.0)\n",
      "Requirement already satisfied: qtconsole in d:\\persian_relation_extraction\\venv\\lib\\site-packages (from jupyter==1.0.0->-r ../requirements.txt (line 7)) (5.2.2)\n",
      "Requirement already satisfied: jupyter-console in d:\\persian_relation_extraction\\venv\\lib\\site-packages (from jupyter==1.0.0->-r ../requirements.txt (line 7)) (6.4.3)\n",
      "Requirement already satisfied: nbconvert in d:\\persian_relation_extraction\\venv\\lib\\site-packages (from jupyter==1.0.0->-r ../requirements.txt (line 7)) (6.4.4)\n",
      "Requirement already satisfied: notebook in d:\\persian_relation_extraction\\venv\\lib\\site-packages (from jupyter==1.0.0->-r ../requirements.txt (line 7)) (6.4.10)\n",
      "Requirement already satisfied: ipykernel in d:\\persian_relation_extraction\\venv\\lib\\site-packages (from jupyter==1.0.0->-r ../requirements.txt (line 7)) (6.9.2)\n",
      "Requirement already satisfied: six in d:\\persian_relation_extraction\\venv\\lib\\site-packages (from plotly==5.6.0->-r ../requirements.txt (line 8)) (1.16.0)\n",
      "Requirement already satisfied: tenacity>=6.2.0 in d:\\persian_relation_extraction\\venv\\lib\\site-packages (from plotly==5.6.0->-r ../requirements.txt (line 8)) (8.0.1)\n",
      "Requirement already satisfied: typing-extensions>=3.7.4.3 in d:\\persian_relation_extraction\\venv\\lib\\site-packages (from huggingface-hub<1.0,>=0.1.0->transformers==4.17.0->-r ../requirements.txt (line 1)) (4.1.1)\n",
      "Requirement already satisfied: pyparsing!=3.0.5,>=2.0.2 in d:\\persian_relation_extraction\\venv\\lib\\site-packages (from packaging>=20.0->transformers==4.17.0->-r ../requirements.txt (line 1)) (3.0.7)\n",
      "Requirement already satisfied: colorama in d:\\persian_relation_extraction\\venv\\lib\\site-packages (from tqdm>=4.27->transformers==4.17.0->-r ../requirements.txt (line 1)) (0.4.4)\n",
      "Requirement already satisfied: ftfy<7.0,>=6.0 in d:\\persian_relation_extraction\\venv\\lib\\site-packages (from clean-text[gpl]->-r ../requirements.txt (line 4)) (6.1.1)\n",
      "Requirement already satisfied: emoji<2.0.0,>=1.0.0 in d:\\persian_relation_extraction\\venv\\lib\\site-packages (from clean-text[gpl]->-r ../requirements.txt (line 4)) (1.7.0)\n",
      "Requirement already satisfied: unidecode<2.0.0,>=1.1.1 in d:\\persian_relation_extraction\\venv\\lib\\site-packages (from clean-text[gpl]->-r ../requirements.txt (line 4)) (1.3.4)\n",
      "Requirement already satisfied: wcwidth>=0.2.5 in d:\\persian_relation_extraction\\venv\\lib\\site-packages (from ftfy<7.0,>=6.0->clean-text[gpl]->-r ../requirements.txt (line 4)) (0.2.5)\n",
      "Requirement already satisfied: tornado<7.0,>=4.2 in d:\\persian_relation_extraction\\venv\\lib\\site-packages (from ipykernel->jupyter==1.0.0->-r ../requirements.txt (line 7)) (6.1)\n",
      "Requirement already satisfied: matplotlib-inline<0.2.0,>=0.1.0 in d:\\persian_relation_extraction\\venv\\lib\\site-packages (from ipykernel->jupyter==1.0.0->-r ../requirements.txt (line 7)) (0.1.3)\n",
      "Requirement already satisfied: ipython>=7.23.1 in d:\\persian_relation_extraction\\venv\\lib\\site-packages (from ipykernel->jupyter==1.0.0->-r ../requirements.txt (line 7)) (8.1.1)\n",
      "Requirement already satisfied: psutil in d:\\persian_relation_extraction\\venv\\lib\\site-packages (from ipykernel->jupyter==1.0.0->-r ../requirements.txt (line 7)) (5.9.0)\n",
      "Requirement already satisfied: traitlets<6.0,>=5.1.0 in d:\\persian_relation_extraction\\venv\\lib\\site-packages (from ipykernel->jupyter==1.0.0->-r ../requirements.txt (line 7)) (5.1.1)\n",
      "Requirement already satisfied: debugpy<2.0,>=1.0.0 in d:\\persian_relation_extraction\\venv\\lib\\site-packages (from ipykernel->jupyter==1.0.0->-r ../requirements.txt (line 7)) (1.5.1)\n",
      "Requirement already satisfied: nest-asyncio in d:\\persian_relation_extraction\\venv\\lib\\site-packages (from ipykernel->jupyter==1.0.0->-r ../requirements.txt (line 7)) (1.5.4)\n",
      "Requirement already satisfied: jupyter-client<8.0 in d:\\persian_relation_extraction\\venv\\lib\\site-packages (from ipykernel->jupyter==1.0.0->-r ../requirements.txt (line 7)) (7.1.2)\n",
      "Requirement already satisfied: prompt-toolkit!=3.0.0,!=3.0.1,<3.1.0,>=2.0.0 in d:\\persian_relation_extraction\\venv\\lib\\site-packages (from ipython>=7.23.1->ipykernel->jupyter==1.0.0->-r ../requirements.txt (line 7)) (3.0.28)\n",
      "Requirement already satisfied: decorator in d:\\persian_relation_extraction\\venv\\lib\\site-packages (from ipython>=7.23.1->ipykernel->jupyter==1.0.0->-r ../requirements.txt (line 7)) (5.1.1)\n",
      "Requirement already satisfied: setuptools>=18.5 in d:\\persian_relation_extraction\\venv\\lib\\site-packages (from ipython>=7.23.1->ipykernel->jupyter==1.0.0->-r ../requirements.txt (line 7)) (56.0.0)\n",
      "Requirement already satisfied: jedi>=0.16 in d:\\persian_relation_extraction\\venv\\lib\\site-packages (from ipython>=7.23.1->ipykernel->jupyter==1.0.0->-r ../requirements.txt (line 7)) (0.18.1)\n",
      "Requirement already satisfied: pickleshare in d:\\persian_relation_extraction\\venv\\lib\\site-packages (from ipython>=7.23.1->ipykernel->jupyter==1.0.0->-r ../requirements.txt (line 7)) (0.7.5)\n",
      "Requirement already satisfied: backcall in d:\\persian_relation_extraction\\venv\\lib\\site-packages (from ipython>=7.23.1->ipykernel->jupyter==1.0.0->-r ../requirements.txt (line 7)) (0.2.0)\n",
      "Requirement already satisfied: stack-data in d:\\persian_relation_extraction\\venv\\lib\\site-packages (from ipython>=7.23.1->ipykernel->jupyter==1.0.0->-r ../requirements.txt (line 7)) (0.2.0)\n",
      "Requirement already satisfied: pygments>=2.4.0 in d:\\persian_relation_extraction\\venv\\lib\\site-packages (from ipython>=7.23.1->ipykernel->jupyter==1.0.0->-r ../requirements.txt (line 7)) (2.11.2)\n",
      "Requirement already satisfied: parso<0.9.0,>=0.8.0 in d:\\persian_relation_extraction\\venv\\lib\\site-packages (from jedi>=0.16->ipython>=7.23.1->ipykernel->jupyter==1.0.0->-r ../requirements.txt (line 7)) (0.8.3)\n",
      "Requirement already satisfied: pyzmq>=13 in d:\\persian_relation_extraction\\venv\\lib\\site-packages (from jupyter-client<8.0->ipykernel->jupyter==1.0.0->-r ../requirements.txt (line 7)) (22.3.0)\n",
      "Requirement already satisfied: entrypoints in d:\\persian_relation_extraction\\venv\\lib\\site-packages (from jupyter-client<8.0->ipykernel->jupyter==1.0.0->-r ../requirements.txt (line 7)) (0.4)\n",
      "Requirement already satisfied: jupyter-core>=4.6.0 in d:\\persian_relation_extraction\\venv\\lib\\site-packages (from jupyter-client<8.0->ipykernel->jupyter==1.0.0->-r ../requirements.txt (line 7)) (4.9.2)\n",
      "Requirement already satisfied: pywin32>=1.0 in d:\\persian_relation_extraction\\venv\\lib\\site-packages (from jupyter-core>=4.6.0->jupyter-client<8.0->ipykernel->jupyter==1.0.0->-r ../requirements.txt (line 7)) (303)\n",
      "Requirement already satisfied: ipython-genutils~=0.2.0 in d:\\persian_relation_extraction\\venv\\lib\\site-packages (from ipywidgets->jupyter==1.0.0->-r ../requirements.txt (line 7)) (0.2.0)\n",
      "Requirement already satisfied: nbformat>=4.2.0 in d:\\persian_relation_extraction\\venv\\lib\\site-packages (from ipywidgets->jupyter==1.0.0->-r ../requirements.txt (line 7)) (5.2.0)\n",
      "Requirement already satisfied: widgetsnbextension~=3.6.0 in d:\\persian_relation_extraction\\venv\\lib\\site-packages (from ipywidgets->jupyter==1.0.0->-r ../requirements.txt (line 7)) (3.6.0)\n",
      "Requirement already satisfied: jupyterlab-widgets>=1.0.0 in d:\\persian_relation_extraction\\venv\\lib\\site-packages (from ipywidgets->jupyter==1.0.0->-r ../requirements.txt (line 7)) (1.1.0)\n",
      "Requirement already satisfied: jsonschema!=2.5.0,>=2.4 in d:\\persian_relation_extraction\\venv\\lib\\site-packages (from nbformat>=4.2.0->ipywidgets->jupyter==1.0.0->-r ../requirements.txt (line 7)) (4.4.0)\n",
      "Requirement already satisfied: attrs>=17.4.0 in d:\\persian_relation_extraction\\venv\\lib\\site-packages (from jsonschema!=2.5.0,>=2.4->nbformat>=4.2.0->ipywidgets->jupyter==1.0.0->-r ../requirements.txt (line 7)) (21.4.0)\n",
      "Requirement already satisfied: pyrsistent!=0.17.0,!=0.17.1,!=0.17.2,>=0.14.0 in d:\\persian_relation_extraction\\venv\\lib\\site-packages (from jsonschema!=2.5.0,>=2.4->nbformat>=4.2.0->ipywidgets->jupyter==1.0.0->-r ../requirements.txt (line 7)) (0.18.1)\n",
      "Requirement already satisfied: argon2-cffi in d:\\persian_relation_extraction\\venv\\lib\\site-packages (from notebook->jupyter==1.0.0->-r ../requirements.txt (line 7)) (21.3.0)\n",
      "Requirement already satisfied: jinja2 in d:\\persian_relation_extraction\\venv\\lib\\site-packages (from notebook->jupyter==1.0.0->-r ../requirements.txt (line 7)) (3.0.3)\n",
      "Requirement already satisfied: terminado>=0.8.3 in d:\\persian_relation_extraction\\venv\\lib\\site-packages (from notebook->jupyter==1.0.0->-r ../requirements.txt (line 7)) (0.13.3)\n",
      "Requirement already satisfied: Send2Trash>=1.8.0 in d:\\persian_relation_extraction\\venv\\lib\\site-packages (from notebook->jupyter==1.0.0->-r ../requirements.txt (line 7)) (1.8.0)\n",
      "Requirement already satisfied: prometheus-client in d:\\persian_relation_extraction\\venv\\lib\\site-packages (from notebook->jupyter==1.0.0->-r ../requirements.txt (line 7)) (0.13.1)\n",
      "Requirement already satisfied: bleach in d:\\persian_relation_extraction\\venv\\lib\\site-packages (from nbconvert->jupyter==1.0.0->-r ../requirements.txt (line 7)) (4.1.0)\n",
      "Requirement already satisfied: nbclient<0.6.0,>=0.5.0 in d:\\persian_relation_extraction\\venv\\lib\\site-packages (from nbconvert->jupyter==1.0.0->-r ../requirements.txt (line 7)) (0.5.13)\n",
      "Requirement already satisfied: defusedxml in d:\\persian_relation_extraction\\venv\\lib\\site-packages (from nbconvert->jupyter==1.0.0->-r ../requirements.txt (line 7)) (0.7.1)\n",
      "Requirement already satisfied: mistune<2,>=0.8.1 in d:\\persian_relation_extraction\\venv\\lib\\site-packages (from nbconvert->jupyter==1.0.0->-r ../requirements.txt (line 7)) (0.8.4)\n",
      "Requirement already satisfied: jupyterlab-pygments in d:\\persian_relation_extraction\\venv\\lib\\site-packages (from nbconvert->jupyter==1.0.0->-r ../requirements.txt (line 7)) (0.1.2)\n",
      "Requirement already satisfied: beautifulsoup4 in d:\\persian_relation_extraction\\venv\\lib\\site-packages (from nbconvert->jupyter==1.0.0->-r ../requirements.txt (line 7)) (4.10.0)\n",
      "Requirement already satisfied: testpath in d:\\persian_relation_extraction\\venv\\lib\\site-packages (from nbconvert->jupyter==1.0.0->-r ../requirements.txt (line 7)) (0.6.0)\n",
      "Requirement already satisfied: pandocfilters>=1.4.1 in d:\\persian_relation_extraction\\venv\\lib\\site-packages (from nbconvert->jupyter==1.0.0->-r ../requirements.txt (line 7)) (1.5.0)\n",
      "Requirement already satisfied: MarkupSafe>=2.0 in d:\\persian_relation_extraction\\venv\\lib\\site-packages (from jinja2->notebook->jupyter==1.0.0->-r ../requirements.txt (line 7)) (2.1.1)\n",
      "Requirement already satisfied: pywinpty>=1.1.0 in d:\\persian_relation_extraction\\venv\\lib\\site-packages (from terminado>=0.8.3->notebook->jupyter==1.0.0->-r ../requirements.txt (line 7)) (2.0.5)\n",
      "Requirement already satisfied: argon2-cffi-bindings in d:\\persian_relation_extraction\\venv\\lib\\site-packages (from argon2-cffi->notebook->jupyter==1.0.0->-r ../requirements.txt (line 7)) (21.2.0)\n"
     ]
    },
    {
     "name": "stderr",
     "output_type": "stream",
     "text": [
      "WARNING: You are using pip version 21.1.1; however, version 22.0.4 is available.\n",
      "You should consider upgrading via the 'd:\\persian_relation_extraction\\venv\\scripts\\python.exe -m pip install --upgrade pip' command.\n"
     ]
    },
    {
     "name": "stdout",
     "output_type": "stream",
     "text": [
      "Requirement already satisfied: cffi>=1.0.1 in d:\\persian_relation_extraction\\venv\\lib\\site-packages (from argon2-cffi-bindings->argon2-cffi->notebook->jupyter==1.0.0->-r ../requirements.txt (line 7)) (1.15.0)\n",
      "Requirement already satisfied: pycparser in d:\\persian_relation_extraction\\venv\\lib\\site-packages (from cffi>=1.0.1->argon2-cffi-bindings->argon2-cffi->notebook->jupyter==1.0.0->-r ../requirements.txt (line 7)) (2.21)\n",
      "Requirement already satisfied: soupsieve>1.2 in d:\\persian_relation_extraction\\venv\\lib\\site-packages (from beautifulsoup4->nbconvert->jupyter==1.0.0->-r ../requirements.txt (line 7)) (2.3.1)\n",
      "Requirement already satisfied: webencodings in d:\\persian_relation_extraction\\venv\\lib\\site-packages (from bleach->nbconvert->jupyter==1.0.0->-r ../requirements.txt (line 7)) (0.5.1)\n",
      "Requirement already satisfied: qtpy in d:\\persian_relation_extraction\\venv\\lib\\site-packages (from qtconsole->jupyter==1.0.0->-r ../requirements.txt (line 7)) (2.0.1)\n",
      "Requirement already satisfied: certifi>=2017.4.17 in d:\\persian_relation_extraction\\venv\\lib\\site-packages (from requests->transformers==4.17.0->-r ../requirements.txt (line 1)) (2021.10.8)\n",
      "Requirement already satisfied: idna<4,>=2.5 in d:\\persian_relation_extraction\\venv\\lib\\site-packages (from requests->transformers==4.17.0->-r ../requirements.txt (line 1)) (3.3)\n",
      "Requirement already satisfied: urllib3<1.27,>=1.21.1 in d:\\persian_relation_extraction\\venv\\lib\\site-packages (from requests->transformers==4.17.0->-r ../requirements.txt (line 1)) (1.26.9)\n",
      "Requirement already satisfied: charset-normalizer~=2.0.0 in d:\\persian_relation_extraction\\venv\\lib\\site-packages (from requests->transformers==4.17.0->-r ../requirements.txt (line 1)) (2.0.12)\n",
      "Requirement already satisfied: joblib in d:\\persian_relation_extraction\\venv\\lib\\site-packages (from sacremoses->transformers==4.17.0->-r ../requirements.txt (line 1)) (1.1.0)\n",
      "Requirement already satisfied: click in d:\\persian_relation_extraction\\venv\\lib\\site-packages (from sacremoses->transformers==4.17.0->-r ../requirements.txt (line 1)) (8.0.4)\n",
      "Requirement already satisfied: pure-eval in d:\\persian_relation_extraction\\venv\\lib\\site-packages (from stack-data->ipython>=7.23.1->ipykernel->jupyter==1.0.0->-r ../requirements.txt (line 7)) (0.2.2)\n",
      "Requirement already satisfied: executing in d:\\persian_relation_extraction\\venv\\lib\\site-packages (from stack-data->ipython>=7.23.1->ipykernel->jupyter==1.0.0->-r ../requirements.txt (line 7)) (0.8.3)\n",
      "Requirement already satisfied: asttokens in d:\\persian_relation_extraction\\venv\\lib\\site-packages (from stack-data->ipython>=7.23.1->ipykernel->jupyter==1.0.0->-r ../requirements.txt (line 7)) (2.0.5)\n"
     ]
    }
   ],
   "source": [
    "!pip install -r ../requirements.txt"
   ]
  },
  {
   "cell_type": "code",
   "execution_count": 2,
   "outputs": [],
   "source": [
    "# Import required packages\n",
    "import numpy as np\n",
    "import pandas as pd\n",
    "import hazm\n",
    "import plotly.graph_objects as go\n",
    "import seaborn as sns\n",
    "%matplotlib inline"
   ],
   "metadata": {
    "collapsed": false,
    "pycharm": {
     "name": "#%%\n"
    }
   }
  },
  {
   "cell_type": "code",
   "source": [
    "from persian_re.settings import BASE_PATH\n",
    "from persian_re.preprocess import utils"
   ],
   "metadata": {
    "id": "V45EV4vn5N0k"
   },
   "execution_count": 3,
   "outputs": []
  },
  {
   "cell_type": "code",
   "source": [
    "BASE_PATH"
   ],
   "metadata": {
    "id": "79FwsuhY43db"
   },
   "execution_count": 4,
   "outputs": [
    {
     "data": {
      "text/plain": "WindowsPath('D:/persian_relation_extraction')"
     },
     "execution_count": 4,
     "metadata": {},
     "output_type": "execute_result"
    }
   ]
  },
  {
   "cell_type": "code",
   "source": [
    "train_df,test_df = utils.load_raw_data()"
   ],
   "metadata": {
    "id": "2eWaO4dW45B0"
   },
   "execution_count": 5,
   "outputs": []
  },
  {
   "cell_type": "code",
   "source": [
    "df = pd.concat([train_df,test_df])\n",
    "df.reset_index(inplace=True,drop=True)"
   ],
   "metadata": {
    "id": "KYG5RLKw48ra"
   },
   "execution_count": 6,
   "outputs": []
  },
  {
   "cell_type": "code",
   "execution_count": 7,
   "outputs": [
    {
     "data": {
      "text/plain": "   id                                               text  \\\n0   1  سیستمی که در بالا توضیح داده شد ٬ بزرگترین کار...   \n1   2  <e1>کودک </e1>با دقت توسط بندی به <e2>گهواره <...   \n2   3  <e1>نویسنده </e1>کی‌جن از یک <e2>اسمبلر </e2>ب...   \n3   4  یک <e1>کوهان </e1>مه‌گرفته از <e2>موج </e2>خرو...   \n4   5  <e2>انجمن <e1></e2>دانشجویی ، </e1>صدای جمعیت ...   \n\n                    re_type                                            comment  \n0    Component-Whole(e2,e1)   Not a collection: there is structure here, or...  \n1                     Other   | original: The child was carefully wrapped a...  \n2  Instrument-Agency(e2,e1)   | original: The author of a keygen uses a dis...  \n3                     Other   | original: A misty ridge uprises from the su...  \n4  Member-Collection(e1,e2)   | original: The student association is the vo...  ",
      "text/html": "<div>\n<style scoped>\n    .dataframe tbody tr th:only-of-type {\n        vertical-align: middle;\n    }\n\n    .dataframe tbody tr th {\n        vertical-align: top;\n    }\n\n    .dataframe thead th {\n        text-align: right;\n    }\n</style>\n<table border=\"1\" class=\"dataframe\">\n  <thead>\n    <tr style=\"text-align: right;\">\n      <th></th>\n      <th>id</th>\n      <th>text</th>\n      <th>re_type</th>\n      <th>comment</th>\n    </tr>\n  </thead>\n  <tbody>\n    <tr>\n      <th>0</th>\n      <td>1</td>\n      <td>سیستمی که در بالا توضیح داده شد ٬ بزرگترین کار...</td>\n      <td>Component-Whole(e2,e1)</td>\n      <td>Not a collection: there is structure here, or...</td>\n    </tr>\n    <tr>\n      <th>1</th>\n      <td>2</td>\n      <td>&lt;e1&gt;کودک &lt;/e1&gt;با دقت توسط بندی به &lt;e2&gt;گهواره &lt;...</td>\n      <td>Other</td>\n      <td>| original: The child was carefully wrapped a...</td>\n    </tr>\n    <tr>\n      <th>2</th>\n      <td>3</td>\n      <td>&lt;e1&gt;نویسنده &lt;/e1&gt;کی‌جن از یک &lt;e2&gt;اسمبلر &lt;/e2&gt;ب...</td>\n      <td>Instrument-Agency(e2,e1)</td>\n      <td>| original: The author of a keygen uses a dis...</td>\n    </tr>\n    <tr>\n      <th>3</th>\n      <td>4</td>\n      <td>یک &lt;e1&gt;کوهان &lt;/e1&gt;مه‌گرفته از &lt;e2&gt;موج &lt;/e2&gt;خرو...</td>\n      <td>Other</td>\n      <td>| original: A misty ridge uprises from the su...</td>\n    </tr>\n    <tr>\n      <th>4</th>\n      <td>5</td>\n      <td>&lt;e2&gt;انجمن &lt;e1&gt;&lt;/e2&gt;دانشجویی ، &lt;/e1&gt;صدای جمعیت ...</td>\n      <td>Member-Collection(e1,e2)</td>\n      <td>| original: The student association is the vo...</td>\n    </tr>\n  </tbody>\n</table>\n</div>"
     },
     "execution_count": 7,
     "metadata": {},
     "output_type": "execute_result"
    }
   ],
   "source": [
    "df.head()"
   ],
   "metadata": {
    "collapsed": false,
    "pycharm": {
     "name": "#%%\n"
    }
   }
  },
  {
   "cell_type": "code",
   "source": [
    "# print data information\n",
    "print('data information')\n",
    "print(df.info(), '\\n')\n",
    "\n",
    "# print missing values information\n",
    "print('missing values stats')\n",
    "print(df.isnull().sum(), '\\n')"
   ],
   "metadata": {
    "id": "-2f1haTB5AFA"
   },
   "execution_count": 8,
   "outputs": [
    {
     "name": "stdout",
     "output_type": "stream",
     "text": [
      "data information\n",
      "<class 'pandas.core.frame.DataFrame'>\n",
      "RangeIndex: 10717 entries, 0 to 10716\n",
      "Data columns (total 4 columns):\n",
      " #   Column   Non-Null Count  Dtype \n",
      "---  ------   --------------  ----- \n",
      " 0   id       10717 non-null  int64 \n",
      " 1   text     10717 non-null  object\n",
      " 2   re_type  10717 non-null  object\n",
      " 3   comment  10717 non-null  object\n",
      "dtypes: int64(1), object(3)\n",
      "memory usage: 335.0+ KB\n",
      "None \n",
      "\n",
      "missing values stats\n",
      "id         0\n",
      "text       0\n",
      "re_type    0\n",
      "comment    0\n",
      "dtype: int64 \n",
      "\n"
     ]
    }
   ]
  },
  {
   "cell_type": "markdown",
   "source": [
    "duplicated rows:"
   ],
   "metadata": {
    "collapsed": false
   }
  },
  {
   "cell_type": "code",
   "source": [
    "df[df.duplicated('text')]"
   ],
   "metadata": {
    "id": "xWRrpGMF5EJw"
   },
   "execution_count": 9,
   "outputs": [
    {
     "data": {
      "text/plain": "Empty DataFrame\nColumns: [id, text, re_type, comment]\nIndex: []",
      "text/html": "<div>\n<style scoped>\n    .dataframe tbody tr th:only-of-type {\n        vertical-align: middle;\n    }\n\n    .dataframe tbody tr th {\n        vertical-align: top;\n    }\n\n    .dataframe thead th {\n        text-align: right;\n    }\n</style>\n<table border=\"1\" class=\"dataframe\">\n  <thead>\n    <tr style=\"text-align: right;\">\n      <th></th>\n      <th>id</th>\n      <th>text</th>\n      <th>re_type</th>\n      <th>comment</th>\n    </tr>\n  </thead>\n  <tbody>\n  </tbody>\n</table>\n</div>"
     },
     "execution_count": 9,
     "metadata": {},
     "output_type": "execute_result"
    }
   ]
  },
  {
   "cell_type": "code",
   "execution_count": 10,
   "outputs": [],
   "source": [
    "df['len_by_words'] = df['text'].apply(lambda x:len(hazm.word_tokenize(x)))"
   ],
   "metadata": {
    "collapsed": false,
    "pycharm": {
     "name": "#%%\n"
    }
   }
  },
  {
   "cell_type": "code",
   "source": [
    "sns.histplot(df['len_by_words'])\n",
    "\n",
    "# fig.update_layout(\n",
    "#     title_text='Distribution of word counts within comments',\n",
    "#     xaxis_title_text='',\n",
    "#     yaxis_title_text='Frequency',\n",
    "#     bargap=0.2,\n",
    "#     bargroupgap=0.2)\n"
   ],
   "metadata": {
    "id": "bbuDN-jS5Gw4"
   },
   "execution_count": 13,
   "outputs": [
    {
     "data": {
      "text/plain": "<AxesSubplot:xlabel='len_by_words', ylabel='Count'>"
     },
     "execution_count": 13,
     "metadata": {},
     "output_type": "execute_result"
    },
    {
     "data": {
      "text/plain": "<Figure size 432x288 with 1 Axes>",
      "image/png": "[encoded data removed]"
     },
     "metadata": {
      "needs_background": "light"
     },
     "output_type": "display_data"
    }
   ]
  },
  {
   "cell_type": "code",
   "source": [
    "np.quantile(df['len_by_words'],0.995)"
   ],
   "metadata": {
    "id": "E_UU99ih5JtL",
    "pycharm": {
     "name": "#%%\n"
    }
   },
   "execution_count": 18,
   "outputs": [
    {
     "data": {
      "text/plain": "53.0"
     },
     "execution_count": 18,
     "metadata": {},
     "output_type": "execute_result"
    }
   ]
  },
  {
   "cell_type": "markdown",
   "source": [
    "so almost all the data can be covered in 64 tokens"
   ],
   "metadata": {
    "collapsed": false,
    "pycharm": {
     "name": "#%% md\n"
    }
   }
  }
 ]
}